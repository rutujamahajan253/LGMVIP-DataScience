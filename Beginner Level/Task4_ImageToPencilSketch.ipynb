{
 "cells": [
  {
   "cell_type": "markdown",
   "id": "bd7d0a11",
   "metadata": {},
   "source": [
    "# Image To Pencil Sketch\n",
    "\n",
    "Name: Rutuja Yogesh Mahajan\n",
    "\n",
    "\n",
    "Level: Beginner\n",
    "\n",
    "\n",
    "Task: 04\n",
    "\n",
    "\n",
    "College: MIT Academy of Engineering, Pune"
   ]
  },
  {
   "cell_type": "code",
   "execution_count": 17,
   "id": "5898a083",
   "metadata": {},
   "outputs": [
    {
     "data": {
      "text/plain": [
       "-1"
      ]
     },
     "execution_count": 17,
     "metadata": {},
     "output_type": "execute_result"
    }
   ],
   "source": [
    "# Importing Required Libraries\n",
    "import cv2\n",
    "\n",
    "# Original image\n",
    "image = cv2.imread('C:/Users/rutuj/Downloads/dog.jpg')\n",
    "# Displaying Original Image\n",
    "cv2.imshow(\"Original Image\", image)\n",
    "cv2.waitKey(0)\n",
    "\n",
    "\n",
    "# Reading the black and white image\n",
    "b_and_w_image = cv2.cvtColor(image, cv2.COLOR_BGR2GRAY)\n",
    "# Displaying black And White Image\n",
    "cv2.imshow(\"Black and White Image\", b_and_w_image)\n",
    "cv2.waitKey(0)\n",
    "\n",
    "# Inverting image\n",
    "inverted_image = 255 - b_and_w_image\n",
    "# Displaying Inverted Image\n",
    "cv2.imshow(\"Inverted Image\", inverted_image)\n",
    "cv2.waitKey()\n",
    "\n",
    "# Blurring image\n",
    "blurred = cv2.GaussianBlur(inverted_image, (21, 21), 0)\n",
    "\n",
    "# Inverting Blurred Image\n",
    "inverted_blurred = 255 - blurred\n",
    "# Creating Pencil Sketch image\n",
    "pencil_sketch = cv2.divide(b_and_w_image, inverted_blurred, scale=256.0)\n",
    "# Displaying Sketch Image\n",
    "cv2.imshow(\"Sketch Image\", pencil_sketch)\n",
    "cv2.waitKey(0)\n",
    "\n",
    "# Displaying Original Image\n",
    "cv2.imshow(\"Original Image\", image)\n",
    "# Displaying Sketch Image\n",
    "cv2.imshow(\"Pencil Sketch Image\", pencil_sketch)\n",
    "cv2.waitKey(0)"
   ]
  }
 ],
 "metadata": {
  "kernelspec": {
   "display_name": "Python 3 (ipykernel)",
   "language": "python",
   "name": "python3"
  },
  "language_info": {
   "codemirror_mode": {
    "name": "ipython",
    "version": 3
   },
   "file_extension": ".py",
   "mimetype": "text/x-python",
   "name": "python",
   "nbconvert_exporter": "python",
   "pygments_lexer": "ipython3",
   "version": "3.9.13"
  }
 },
 "nbformat": 4,
 "nbformat_minor": 5
}
